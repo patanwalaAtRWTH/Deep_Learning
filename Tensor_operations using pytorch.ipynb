{
  "nbformat": 4,
  "nbformat_minor": 0,
  "metadata": {
    "colab": {
      "name": "1_tensor_operations.ipynb",
      "provenance": []
    },
    "kernelspec": {
      "name": "python3",
      "display_name": "Python 3"
    },
    "language_info": {
      "name": "python"
    }
  },
  "cells": [
    {
      "cell_type": "code",
      "metadata": {
        "id": "iegD4CzJcHww"
      },
      "source": [
        "import torch"
      ],
      "execution_count": null,
      "outputs": []
    },
    {
      "cell_type": "code",
      "metadata": {
        "colab": {
          "base_uri": "https://localhost:8080/"
        },
        "id": "NPYd9BsBdZlS",
        "outputId": "a2844d4d-3e11-4f49-e025-f54bb205efd4"
      },
      "source": [
        "my_tensor = torch.tensor([[1,2,3], [4,5,6]])\n",
        "print(my_tensor)"
      ],
      "execution_count": null,
      "outputs": [
        {
          "output_type": "stream",
          "text": [
            "tensor([[1, 2, 3],\n",
            "        [4, 5, 6]])\n"
          ],
          "name": "stdout"
        }
      ]
    },
    {
      "cell_type": "code",
      "metadata": {
        "colab": {
          "base_uri": "https://localhost:8080/"
        },
        "id": "fjoRql6jdmt5",
        "outputId": "00048549-69cc-45a8-a06e-44c286bedb59"
      },
      "source": [
        "my_tensor = torch.tensor([[1,2,3], [4,5,6]], dtype=torch.float32, device='cuda')\n",
        "print(my_tensor)"
      ],
      "execution_count": null,
      "outputs": [
        {
          "output_type": "stream",
          "text": [
            "tensor([[1., 2., 3.],\n",
            "        [4., 5., 6.]], device='cuda:0')\n"
          ],
          "name": "stdout"
        }
      ]
    },
    {
      "cell_type": "code",
      "metadata": {
        "colab": {
          "base_uri": "https://localhost:8080/"
        },
        "id": "CmZoqW-Dd94I",
        "outputId": "a72130ac-8018-408f-ad99-426c27d2ef7b"
      },
      "source": [
        "my_tensor = torch.tensor([[1,2,3], [4,5,6]], dtype=torch.float32, device='cpu')\n",
        "print(my_tensor)"
      ],
      "execution_count": null,
      "outputs": [
        {
          "output_type": "stream",
          "text": [
            "tensor([[1., 2., 3.],\n",
            "        [4., 5., 6.]])\n"
          ],
          "name": "stdout"
        }
      ]
    },
    {
      "cell_type": "code",
      "metadata": {
        "colab": {
          "base_uri": "https://localhost:8080/"
        },
        "id": "CTgCFBGheKov",
        "outputId": "c5a9026b-331a-4cb1-b1ee-d947aa6e06f0"
      },
      "source": [
        "my_tensor = torch.tensor([[1,2,3], [4,5,6]], dtype=torch.float32, device='cpu', requires_grad=True)\n",
        "print(my_tensor)"
      ],
      "execution_count": null,
      "outputs": [
        {
          "output_type": "stream",
          "text": [
            "tensor([[1., 2., 3.],\n",
            "        [4., 5., 6.]], requires_grad=True)\n"
          ],
          "name": "stdout"
        }
      ]
    },
    {
      "cell_type": "code",
      "metadata": {
        "colab": {
          "base_uri": "https://localhost:8080/"
        },
        "id": "J31fjz-PeQ14",
        "outputId": "5ab7e002-0651-4e2d-ca05-e0f9cf9f8178"
      },
      "source": [
        "Device = 'cuda' if torch.cuda.is_available() else 'cpu'\n",
        "\n",
        "my_tensor = torch.tensor([[1,2,3], [4,5,6]], dtype=torch.float32, device=Device, requires_grad=True)\n",
        "\n",
        "print(my_tensor)"
      ],
      "execution_count": null,
      "outputs": [
        {
          "output_type": "stream",
          "text": [
            "tensor([[1., 2., 3.],\n",
            "        [4., 5., 6.]], device='cuda:0', requires_grad=True)\n"
          ],
          "name": "stdout"
        }
      ]
    },
    {
      "cell_type": "code",
      "metadata": {
        "colab": {
          "base_uri": "https://localhost:8080/"
        },
        "id": "SiEQYoAzesP3",
        "outputId": "213659bb-9403-404c-f6a6-13bdf5d8aabf"
      },
      "source": [
        "print(my_tensor)\n",
        "print(my_tensor.dtype)\n",
        "print(my_tensor.device)\n",
        "print(my_tensor.shape)\n",
        "print(my_tensor.requires_grad)"
      ],
      "execution_count": null,
      "outputs": [
        {
          "output_type": "stream",
          "text": [
            "tensor([[1., 2., 3.],\n",
            "        [4., 5., 6.]], device='cuda:0', requires_grad=True)\n",
            "torch.float32\n",
            "cuda:0\n",
            "torch.Size([2, 3])\n",
            "True\n"
          ],
          "name": "stdout"
        }
      ]
    },
    {
      "cell_type": "code",
      "metadata": {
        "id": "mBQQDQY6fJxw"
      },
      "source": [
        ""
      ],
      "execution_count": null,
      "outputs": []
    },
    {
      "cell_type": "markdown",
      "metadata": {
        "id": "E51A9oAxfOjX"
      },
      "source": [
        "### Initialisation Methods"
      ]
    },
    {
      "cell_type": "code",
      "metadata": {
        "id": "X9rpePc-fRKf"
      },
      "source": [
        "x = torch.empty(size=(3,3))\n",
        "y = torch.zeros((3,3))\n",
        "z = torch.rand((3,3))\n",
        "q = torch.eye(3,3)\n",
        "w = torch.arange(start=0, end= 5, step=1)\n",
        "e = torch.linspace(start = 0.1, end=1, steps=10)\n",
        "r = torch.empty(size=(1,5)).normal_(mean=0, std=1)\n",
        "t = torch.empty(size= (1,5)).uniform_(0,1)\n",
        "z = torch.diag(torch.ones(3))\n"
      ],
      "execution_count": null,
      "outputs": []
    },
    {
      "cell_type": "code",
      "metadata": {
        "id": "CbqBmAblfWYH"
      },
      "source": [
        ""
      ],
      "execution_count": null,
      "outputs": []
    },
    {
      "cell_type": "markdown",
      "metadata": {
        "id": "ZcnCv9VMg_Re"
      },
      "source": [
        "## How to initialize and convert tensors to other typer (int, float, double)"
      ]
    },
    {
      "cell_type": "code",
      "metadata": {
        "colab": {
          "base_uri": "https://localhost:8080/"
        },
        "id": "JJ1wJaYPfXJX",
        "outputId": "1716b00a-87fd-46c8-993c-0c24b0dfa19e"
      },
      "source": [
        "tensor = torch.arange(4)\n",
        "\n",
        "print(tensor.bool())\n",
        "print(tensor.short())\n",
        "print(tensor.long())\n",
        "print(tensor.half())\n",
        "print(tensor.float())\n",
        "print(tensor.double())"
      ],
      "execution_count": null,
      "outputs": [
        {
          "output_type": "stream",
          "text": [
            "tensor([False,  True,  True,  True])\n",
            "tensor([0, 1, 2, 3], dtype=torch.int16)\n",
            "tensor([0, 1, 2, 3])\n",
            "tensor([0., 1., 2., 3.], dtype=torch.float16)\n",
            "tensor([0., 1., 2., 3.])\n",
            "tensor([0., 1., 2., 3.], dtype=torch.float64)\n"
          ],
          "name": "stdout"
        }
      ]
    },
    {
      "cell_type": "markdown",
      "metadata": {
        "id": "iBbl1L8qhwFb"
      },
      "source": [
        "### Array to tensor conversion and vice versa"
      ]
    },
    {
      "cell_type": "code",
      "metadata": {
        "id": "f7rcbd3_hNwx"
      },
      "source": [
        "import numpy as np\n",
        "\n",
        "np_array = np.array((5,5))\n",
        "tensor = torch.from_numpy(np_array)\n",
        "np_array_back = tensor.numpy()\n"
      ],
      "execution_count": null,
      "outputs": []
    },
    {
      "cell_type": "markdown",
      "metadata": {
        "id": "fJUwXkKhiXvw"
      },
      "source": [
        "## Tensor math and comparison operations"
      ]
    },
    {
      "cell_type": "code",
      "metadata": {
        "colab": {
          "base_uri": "https://localhost:8080/"
        },
        "id": "vMaIcIVahPYv",
        "outputId": "41fec172-1c2c-46c5-91ee-efe51ec30416"
      },
      "source": [
        "x = torch.tensor([1,2,3])\n",
        "y = torch.tensor([9,8,7])\n",
        "\n",
        "# Addition\n",
        "z1 = torch.add(x,y)\n",
        "z2 = x+y\n",
        "print(z1)\n",
        "print(z2)\n",
        "\n",
        "# Subtraction\n",
        "\n",
        "z3 = y - x\n",
        "\n",
        "# Division\n",
        "\n",
        "z4 = torch.true_divide(x, y)\n",
        "\n",
        "# Inplace operations\n",
        "t = torch.zeros(3)\n",
        "t.add_(x)\n",
        "print('t:', t)"
      ],
      "execution_count": null,
      "outputs": [
        {
          "output_type": "stream",
          "text": [
            "tensor([10, 10, 10])\n",
            "tensor([10, 10, 10])\n",
            "t: tensor([1., 2., 3.])\n"
          ],
          "name": "stdout"
        }
      ]
    },
    {
      "cell_type": "code",
      "metadata": {
        "id": "UVwdK3UEiRsv"
      },
      "source": [
        "# Exponentiation\n",
        "\n",
        "u1 = x.pow(2)\n",
        "u2 = x ** 2"
      ],
      "execution_count": null,
      "outputs": []
    },
    {
      "cell_type": "code",
      "metadata": {
        "colab": {
          "base_uri": "https://localhost:8080/"
        },
        "id": "6MT_ONx-jaQn",
        "outputId": "e582da58-e233-4992-b58b-77f6e9bf0e71"
      },
      "source": [
        "# Value comparison\n",
        "\n",
        "z1 = x < 0\n",
        "z2 = x > 0\n",
        "\n",
        "print(z1, z2)"
      ],
      "execution_count": null,
      "outputs": [
        {
          "output_type": "stream",
          "text": [
            "tensor([False, False, False]) tensor([True, True, True])\n"
          ],
          "name": "stdout"
        }
      ]
    },
    {
      "cell_type": "code",
      "metadata": {
        "colab": {
          "base_uri": "https://localhost:8080/"
        },
        "id": "QJcdn8LZjjSe",
        "outputId": "1786eb76-921c-496d-8f99-3948f6e43cd5"
      },
      "source": [
        "# Matrix Multiplication\n",
        "\n",
        "x1 = torch.rand([2,5])\n",
        "x2 = torch.rand([5,3])\n",
        "x3 = torch.mm(x1, x2) # 2 x 3\n",
        "print(x3)"
      ],
      "execution_count": null,
      "outputs": [
        {
          "output_type": "stream",
          "text": [
            "tensor([[1.0506, 1.3189, 1.0071],\n",
            "        [0.7667, 0.8594, 0.8804]])\n"
          ],
          "name": "stdout"
        }
      ]
    },
    {
      "cell_type": "code",
      "metadata": {
        "colab": {
          "base_uri": "https://localhost:8080/"
        },
        "id": "qPo8R1Obj9ln",
        "outputId": "5076f2ad-91b7-4236-ffa3-ad987961b61b"
      },
      "source": [
        "# Matrix exponentiation\n",
        "\n",
        "matrix_exp = torch.rand(5,5)\n",
        "print(matrix_exp.matrix_power(3))"
      ],
      "execution_count": null,
      "outputs": [
        {
          "output_type": "stream",
          "text": [
            "tensor([[3.0222, 1.8810, 4.2808, 3.9540, 1.9371],\n",
            "        [2.9295, 1.9373, 4.0582, 3.6035, 1.8065],\n",
            "        [3.3304, 2.0247, 4.6483, 4.3904, 2.0850],\n",
            "        [3.9564, 2.4862, 5.6306, 5.1253, 2.6031],\n",
            "        [2.6879, 1.6049, 3.7054, 3.5836, 1.6348]])\n"
          ],
          "name": "stdout"
        }
      ]
    },
    {
      "cell_type": "code",
      "metadata": {
        "colab": {
          "base_uri": "https://localhost:8080/"
        },
        "id": "S1aJo8RFmkdd",
        "outputId": "08387b14-e42b-4945-f81e-fc8761b338a1"
      },
      "source": [
        "# Element wise multiplication\n",
        "z = x * y\n",
        "z = torch.dot(x, y)\n",
        "\n",
        "# Batch matrix multiplication\n",
        "batch = 32\n",
        "n = 10\n",
        "m = 20\n",
        "p = 30\n",
        "\n",
        "tensor1 = torch.rand((batch, n, m))\n",
        "tensor2 = torch.rand((batch, m, p))\n",
        "out_bmm = torch.bmm(tensor1, tensor2)\n",
        "print(z)"
      ],
      "execution_count": null,
      "outputs": [
        {
          "output_type": "stream",
          "text": [
            "tensor(46)\n"
          ],
          "name": "stdout"
        }
      ]
    },
    {
      "cell_type": "code",
      "metadata": {
        "id": "ED4NLJX0mwdO"
      },
      "source": [
        "#Example of broadcasting\n",
        "\n",
        "x1 = torch.rand((5,5)) \n",
        "x2 = torch.rand((1, 5))\n",
        "\n",
        "z = x1 - x2\n",
        "z = x1 ** x2"
      ],
      "execution_count": null,
      "outputs": []
    },
    {
      "cell_type": "code",
      "metadata": {
        "colab": {
          "base_uri": "https://localhost:8080/"
        },
        "id": "2XJ9rRovnwYu",
        "outputId": "089c4e7a-e99c-4fab-e11e-c263afae0caa"
      },
      "source": [
        "# Other functions\n",
        "sum = torch.sum(x, dim=0)\n",
        "values, indices = torch.max(x, dim=0)\n",
        "values, indices = torch.min(x, dim=0)\n",
        "abs_x = torch.abs(x)\n",
        "z = torch.argmax(x, dim=0) # only returns the index of the max\n",
        "z = torch.argmin(x, dim=0)\n",
        "\n",
        "mean_x = torch.mean(x.float(), dim=0)\n",
        "z = torch.eq(x, y) # check which elements are equal\n",
        "print(z)\n",
        "\n",
        "torch.sort(y, dim=0, descending=False)\n",
        "\n",
        "sorted_y, indices = torch.sort(y, dim= 0, descending=False)\n",
        "\n",
        "z = torch.clamp(x, min=0) # check all elements all value less than 0 and make them zero.\n"
      ],
      "execution_count": null,
      "outputs": [
        {
          "output_type": "stream",
          "text": [
            "tensor([False, False, False])\n"
          ],
          "name": "stdout"
        }
      ]
    },
    {
      "cell_type": "code",
      "metadata": {
        "colab": {
          "base_uri": "https://localhost:8080/"
        },
        "id": "XqzMK2f2pqMH",
        "outputId": "14a40ff1-8e51-404f-9405-f71ffd48764a"
      },
      "source": [
        "\n",
        "x = torch.tensor([1,0,1,0,1,1], dtype=torch.bool)\n",
        "z = torch.any(x)\n",
        "z = torch.all(x)\n",
        "print(z)"
      ],
      "execution_count": null,
      "outputs": [
        {
          "output_type": "stream",
          "text": [
            "tensor(False)\n"
          ],
          "name": "stdout"
        }
      ]
    },
    {
      "cell_type": "markdown",
      "metadata": {
        "id": "EEb86GkFp4Eq"
      },
      "source": [
        "## Indexing in Tensors"
      ]
    },
    {
      "cell_type": "code",
      "metadata": {
        "colab": {
          "base_uri": "https://localhost:8080/"
        },
        "id": "uenv0HORpt5E",
        "outputId": "52ddf839-20f0-4330-e7c8-dd238a15c00b"
      },
      "source": [
        "batch_size = 10\n",
        "features = 25\n",
        "x = torch.rand((batch_size, features))\n",
        "\n",
        "print(x[0].shape)\n",
        "print(x[:, 0].shape)\n",
        "print(x[2, 0:10]) # 0:10 "
      ],
      "execution_count": null,
      "outputs": [
        {
          "output_type": "stream",
          "text": [
            "torch.Size([25])\n",
            "torch.Size([10])\n",
            "tensor([0.5908, 0.8056, 0.5954, 0.3891, 0.4277, 0.0728, 0.0277, 0.1361, 0.3231,\n",
            "        0.4292])\n"
          ],
          "name": "stdout"
        }
      ]
    },
    {
      "cell_type": "code",
      "metadata": {
        "colab": {
          "base_uri": "https://localhost:8080/"
        },
        "id": "DsAtzyYhqGbu",
        "outputId": "8ab2778d-6318-4777-e68d-ed4345d045d4"
      },
      "source": [
        "x[0,0]"
      ],
      "execution_count": null,
      "outputs": [
        {
          "output_type": "execute_result",
          "data": {
            "text/plain": [
              "tensor(0.8477)"
            ]
          },
          "metadata": {
            "tags": []
          },
          "execution_count": 22
        }
      ]
    },
    {
      "cell_type": "code",
      "metadata": {
        "colab": {
          "base_uri": "https://localhost:8080/"
        },
        "id": "FUi1n5zoqn0k",
        "outputId": "255957f8-b5fc-492b-9851-d6b69ef1e719"
      },
      "source": [
        "# Fancy Indexing\n",
        "\n",
        "x = torch.arange(10)\n",
        "indices = [2,5,8]\n",
        "print(x[indices])"
      ],
      "execution_count": null,
      "outputs": [
        {
          "output_type": "stream",
          "text": [
            "tensor([2, 5, 8])\n"
          ],
          "name": "stdout"
        }
      ]
    },
    {
      "cell_type": "code",
      "metadata": {
        "colab": {
          "base_uri": "https://localhost:8080/"
        },
        "id": "poq0zNXKqtlM",
        "outputId": "834cecff-8e98-4f58-903c-73fa831e5912"
      },
      "source": [
        "x = torch.rand((3, 5))\n",
        "rows = torch.tensor([1,0])\n",
        "cols = torch.tensor([4, 0])\n",
        "print(x[rows, cols].shape)"
      ],
      "execution_count": null,
      "outputs": [
        {
          "output_type": "stream",
          "text": [
            "torch.Size([2])\n"
          ],
          "name": "stdout"
        }
      ]
    },
    {
      "cell_type": "code",
      "metadata": {
        "colab": {
          "base_uri": "https://localhost:8080/"
        },
        "id": "hOAZCRbYrX5l",
        "outputId": "7af8ae26-e781-4496-c35f-9e3e858aa7c4"
      },
      "source": [
        "# Advance indexing\n",
        "x = torch.arange(10)\n",
        "print(x[(x < 2) | (x > 8) ])\n",
        "print(x[x.remainder(2) == 0])"
      ],
      "execution_count": null,
      "outputs": [
        {
          "output_type": "stream",
          "text": [
            "tensor([0, 1, 9])\n",
            "tensor([0, 2, 4, 6, 8])\n"
          ],
          "name": "stdout"
        }
      ]
    },
    {
      "cell_type": "code",
      "metadata": {
        "colab": {
          "base_uri": "https://localhost:8080/"
        },
        "id": "UF4W-YuMvvFb",
        "outputId": "3e0889ce-f968-4bf2-b076-30206fdc9d4b"
      },
      "source": [
        "# Other useful operations\n",
        "\n",
        "print(torch.where(x > 5 , x, x *2))\n",
        "print(torch.tensor([0,0,1,2,2,3,4]).unique())\n",
        "print(x.ndimension())\n",
        "\n",
        "print(x.numel())"
      ],
      "execution_count": null,
      "outputs": [
        {
          "output_type": "stream",
          "text": [
            "tensor([ 0,  2,  4,  6,  8, 10,  6,  7,  8,  9])\n",
            "tensor([0, 1, 2, 3, 4])\n",
            "1\n",
            "10\n"
          ],
          "name": "stdout"
        }
      ]
    },
    {
      "cell_type": "markdown",
      "metadata": {
        "id": "1pC25i3Xw5gj"
      },
      "source": [
        "## Reshaping the tensors"
      ]
    },
    {
      "cell_type": "code",
      "metadata": {
        "colab": {
          "base_uri": "https://localhost:8080/"
        },
        "id": "AqwwkK97vvdM",
        "outputId": "f9a75a4b-5e73-4c44-bfe6-d6dbb0738874"
      },
      "source": [
        "x = torch.arange(9)\n",
        "\n",
        "x_3x3 = x.view(3,3)\n",
        "print(x_3x3)\n",
        "\n",
        "x_3x3 = x.reshape(3,3) # better version"
      ],
      "execution_count": null,
      "outputs": [
        {
          "output_type": "stream",
          "text": [
            "tensor([[0, 1, 2],\n",
            "        [3, 4, 5],\n",
            "        [6, 7, 8]])\n"
          ],
          "name": "stdout"
        }
      ]
    },
    {
      "cell_type": "code",
      "metadata": {
        "colab": {
          "base_uri": "https://localhost:8080/"
        },
        "id": "awIps8ePxJ5S",
        "outputId": "6d766dd2-079c-4b9c-e424-b934850cddb3"
      },
      "source": [
        "y = x_3x3.t()\n",
        "print(y)"
      ],
      "execution_count": null,
      "outputs": [
        {
          "output_type": "stream",
          "text": [
            "tensor([[0, 3, 6],\n",
            "        [1, 4, 7],\n",
            "        [2, 5, 8]])\n"
          ],
          "name": "stdout"
        }
      ]
    },
    {
      "cell_type": "code",
      "metadata": {
        "colab": {
          "base_uri": "https://localhost:8080/"
        },
        "id": "ItypVCU7xR38",
        "outputId": "3bc8a95a-c0af-4709-c3b4-874553de8e14"
      },
      "source": [
        "# Concat\n",
        "# torch.concat((x1, x2), dim=0)\n",
        "\n",
        "z = x1.view(-1)  # to flat the array\n",
        "\n",
        "\n",
        "batch = 64\n",
        "x = torch.rand((batch, 2, 5))\n",
        "z = x.view(batch, -1)\n",
        "print(z.shape)"
      ],
      "execution_count": null,
      "outputs": [
        {
          "output_type": "stream",
          "text": [
            "torch.Size([64, 10])\n"
          ],
          "name": "stdout"
        }
      ]
    },
    {
      "cell_type": "code",
      "metadata": {
        "colab": {
          "base_uri": "https://localhost:8080/"
        },
        "id": "BLqJlpt9zEv6",
        "outputId": "cde1ffd2-3851-4967-fe9c-cf0df12bcd4e"
      },
      "source": [
        "z = x.permute(0,2,1)\n",
        "print(z)"
      ],
      "execution_count": null,
      "outputs": [
        {
          "output_type": "stream",
          "text": [
            "tensor([[[6.5512e-02, 8.3965e-01],\n",
            "         [5.6135e-01, 7.9671e-01],\n",
            "         [3.2942e-01, 2.7194e-01],\n",
            "         [7.6510e-01, 8.8281e-01],\n",
            "         [7.0096e-01, 7.9004e-01]],\n",
            "\n",
            "        [[5.9699e-01, 4.2769e-01],\n",
            "         [2.0012e-01, 4.4996e-01],\n",
            "         [5.6564e-01, 6.5591e-01],\n",
            "         [6.4971e-01, 8.9868e-01],\n",
            "         [1.7925e-01, 1.6872e-01]],\n",
            "\n",
            "        [[9.8277e-01, 2.7914e-01],\n",
            "         [4.0448e-01, 3.8690e-01],\n",
            "         [4.9776e-01, 4.2939e-01],\n",
            "         [5.6720e-01, 7.9193e-01],\n",
            "         [1.0322e-01, 1.4977e-01]],\n",
            "\n",
            "        [[9.1280e-01, 9.4805e-01],\n",
            "         [1.0683e-01, 7.0883e-01],\n",
            "         [2.7691e-01, 7.6222e-01],\n",
            "         [4.6695e-01, 8.8291e-01],\n",
            "         [3.8386e-01, 1.8948e-01]],\n",
            "\n",
            "        [[8.9962e-01, 5.2429e-01],\n",
            "         [1.1604e-01, 7.4719e-01],\n",
            "         [6.2421e-01, 6.6362e-01],\n",
            "         [3.3436e-01, 9.2498e-02],\n",
            "         [2.2125e-01, 9.1148e-01]],\n",
            "\n",
            "        [[3.3584e-01, 5.0238e-01],\n",
            "         [3.5969e-01, 8.9697e-01],\n",
            "         [8.0765e-02, 2.0320e-01],\n",
            "         [1.3451e-03, 9.4119e-01],\n",
            "         [9.7011e-01, 6.2875e-01]],\n",
            "\n",
            "        [[7.1419e-01, 6.5098e-01],\n",
            "         [4.3934e-01, 4.2428e-01],\n",
            "         [1.5616e-01, 4.5169e-02],\n",
            "         [1.8249e-01, 9.8469e-01],\n",
            "         [8.5565e-02, 7.5766e-01]],\n",
            "\n",
            "        [[3.8566e-01, 8.4887e-02],\n",
            "         [2.4123e-01, 7.0051e-02],\n",
            "         [8.1827e-01, 5.6276e-01],\n",
            "         [4.6971e-01, 2.1072e-01],\n",
            "         [6.5719e-01, 8.6627e-01]],\n",
            "\n",
            "        [[5.0523e-01, 5.7321e-01],\n",
            "         [1.5488e-01, 8.6617e-01],\n",
            "         [9.3181e-01, 4.6991e-01],\n",
            "         [1.3571e-02, 2.0930e-01],\n",
            "         [4.8237e-01, 8.3093e-01]],\n",
            "\n",
            "        [[4.1861e-01, 9.7763e-01],\n",
            "         [3.6702e-01, 8.1189e-01],\n",
            "         [7.3198e-03, 8.4972e-01],\n",
            "         [7.6923e-01, 9.7646e-01],\n",
            "         [9.6830e-01, 9.5053e-01]],\n",
            "\n",
            "        [[4.8436e-01, 2.0138e-02],\n",
            "         [6.2246e-01, 1.6609e-01],\n",
            "         [1.4740e-01, 2.6931e-02],\n",
            "         [9.6519e-02, 8.0250e-01],\n",
            "         [6.0123e-01, 4.4649e-01]],\n",
            "\n",
            "        [[1.2960e-01, 7.5446e-01],\n",
            "         [9.6213e-01, 7.0239e-01],\n",
            "         [7.7874e-01, 3.9835e-02],\n",
            "         [5.9469e-01, 7.9039e-01],\n",
            "         [2.9259e-01, 8.8790e-01]],\n",
            "\n",
            "        [[4.2010e-01, 8.6132e-01],\n",
            "         [9.5247e-01, 6.0630e-01],\n",
            "         [1.4973e-01, 6.7016e-01],\n",
            "         [8.7058e-01, 6.9515e-01],\n",
            "         [1.8092e-01, 6.2814e-01]],\n",
            "\n",
            "        [[8.3725e-01, 6.2718e-01],\n",
            "         [7.5561e-01, 2.3339e-01],\n",
            "         [5.6085e-01, 1.3079e-01],\n",
            "         [8.4664e-01, 7.7576e-01],\n",
            "         [7.8578e-01, 8.5506e-01]],\n",
            "\n",
            "        [[9.3549e-01, 1.1404e-01],\n",
            "         [9.7499e-01, 4.8454e-01],\n",
            "         [9.0037e-01, 7.3000e-01],\n",
            "         [2.6920e-01, 2.2515e-01],\n",
            "         [1.9578e-01, 2.7272e-01]],\n",
            "\n",
            "        [[8.3902e-01, 5.2677e-01],\n",
            "         [1.3682e-01, 1.5326e-01],\n",
            "         [9.9162e-01, 7.7236e-01],\n",
            "         [8.0967e-02, 3.2357e-01],\n",
            "         [2.4093e-01, 1.4852e-01]],\n",
            "\n",
            "        [[6.9584e-01, 4.4016e-01],\n",
            "         [9.0363e-01, 8.0470e-01],\n",
            "         [4.4152e-01, 3.4875e-01],\n",
            "         [8.5518e-01, 3.7546e-01],\n",
            "         [6.5251e-01, 4.5421e-01]],\n",
            "\n",
            "        [[4.3575e-01, 1.3991e-01],\n",
            "         [9.0926e-01, 3.0568e-01],\n",
            "         [1.1982e-01, 4.6295e-01],\n",
            "         [2.8182e-01, 2.4014e-01],\n",
            "         [4.0612e-01, 9.6910e-01]],\n",
            "\n",
            "        [[8.4150e-01, 2.8143e-01],\n",
            "         [9.7992e-01, 5.9639e-01],\n",
            "         [2.3486e-01, 1.1410e-01],\n",
            "         [5.6154e-01, 5.0989e-02],\n",
            "         [8.5000e-01, 7.5702e-01]],\n",
            "\n",
            "        [[7.8418e-01, 9.9722e-02],\n",
            "         [5.6153e-01, 4.6660e-01],\n",
            "         [8.6597e-01, 5.3879e-02],\n",
            "         [7.5025e-01, 7.2096e-01],\n",
            "         [9.4383e-01, 1.6245e-01]],\n",
            "\n",
            "        [[5.0441e-01, 3.0001e-02],\n",
            "         [3.6231e-01, 2.8834e-02],\n",
            "         [2.6512e-01, 8.0317e-01],\n",
            "         [1.8738e-01, 2.4541e-01],\n",
            "         [1.7294e-01, 8.6878e-01]],\n",
            "\n",
            "        [[4.3205e-01, 7.3133e-01],\n",
            "         [9.0311e-02, 7.5467e-01],\n",
            "         [1.5527e-01, 5.4700e-01],\n",
            "         [4.0577e-01, 6.1948e-02],\n",
            "         [2.3354e-01, 6.8960e-01]],\n",
            "\n",
            "        [[2.5106e-01, 8.8092e-01],\n",
            "         [1.5563e-01, 6.5499e-01],\n",
            "         [4.9947e-01, 4.0416e-02],\n",
            "         [4.2201e-01, 7.6879e-02],\n",
            "         [2.0815e-01, 1.5183e-01]],\n",
            "\n",
            "        [[3.7557e-01, 6.7052e-01],\n",
            "         [1.4350e-01, 5.4844e-01],\n",
            "         [9.7554e-01, 6.5190e-01],\n",
            "         [8.4670e-01, 4.3440e-01],\n",
            "         [3.4263e-03, 8.2124e-01]],\n",
            "\n",
            "        [[1.2895e-01, 1.7167e-01],\n",
            "         [3.3515e-01, 3.3649e-01],\n",
            "         [1.0921e-01, 7.3224e-01],\n",
            "         [7.4011e-01, 8.2910e-01],\n",
            "         [2.7739e-01, 1.7944e-01]],\n",
            "\n",
            "        [[2.8387e-01, 8.3626e-01],\n",
            "         [8.5191e-01, 6.0103e-01],\n",
            "         [9.7978e-01, 3.1591e-01],\n",
            "         [2.2772e-01, 9.9076e-01],\n",
            "         [7.1147e-01, 1.0784e-01]],\n",
            "\n",
            "        [[9.9807e-01, 4.7433e-01],\n",
            "         [3.6148e-01, 3.5236e-01],\n",
            "         [3.5410e-01, 1.7744e-01],\n",
            "         [9.7565e-01, 6.2043e-01],\n",
            "         [4.2868e-01, 5.3660e-01]],\n",
            "\n",
            "        [[8.9371e-01, 1.8785e-01],\n",
            "         [1.9424e-01, 2.9893e-01],\n",
            "         [4.6871e-01, 4.0015e-02],\n",
            "         [5.8095e-03, 5.6693e-01],\n",
            "         [6.2182e-01, 8.9429e-01]],\n",
            "\n",
            "        [[7.3102e-01, 8.9210e-01],\n",
            "         [6.5961e-01, 6.6291e-01],\n",
            "         [8.8296e-01, 6.9748e-01],\n",
            "         [6.3539e-01, 4.4171e-01],\n",
            "         [2.7947e-01, 4.7836e-01]],\n",
            "\n",
            "        [[4.3319e-01, 9.7296e-01],\n",
            "         [6.5699e-01, 4.3583e-01],\n",
            "         [3.5874e-02, 8.4793e-01],\n",
            "         [1.9142e-01, 5.7733e-01],\n",
            "         [3.9296e-01, 4.4248e-01]],\n",
            "\n",
            "        [[8.3776e-01, 5.4205e-01],\n",
            "         [8.3374e-01, 9.9398e-01],\n",
            "         [2.5194e-01, 4.8758e-01],\n",
            "         [1.3353e-02, 9.6972e-01],\n",
            "         [7.1021e-01, 6.8586e-01]],\n",
            "\n",
            "        [[7.2321e-01, 3.2527e-01],\n",
            "         [2.7814e-01, 7.7486e-01],\n",
            "         [4.7037e-03, 6.1458e-01],\n",
            "         [2.9640e-01, 3.8687e-02],\n",
            "         [9.2766e-01, 4.6995e-01]],\n",
            "\n",
            "        [[6.9872e-01, 8.1781e-01],\n",
            "         [3.9418e-01, 4.1430e-01],\n",
            "         [1.2237e-01, 1.1958e-01],\n",
            "         [4.0024e-01, 5.4706e-01],\n",
            "         [8.9500e-01, 1.1202e-01]],\n",
            "\n",
            "        [[3.5644e-01, 6.5923e-01],\n",
            "         [4.1373e-01, 6.4285e-01],\n",
            "         [9.4613e-01, 3.0344e-01],\n",
            "         [5.4887e-01, 8.6895e-01],\n",
            "         [5.7931e-01, 9.0468e-01]],\n",
            "\n",
            "        [[4.7888e-01, 6.4365e-01],\n",
            "         [1.2317e-01, 4.5936e-01],\n",
            "         [8.6663e-01, 7.7643e-01],\n",
            "         [1.5172e-01, 8.7666e-01],\n",
            "         [6.2476e-01, 5.9433e-02]],\n",
            "\n",
            "        [[8.8346e-01, 3.8231e-01],\n",
            "         [1.0229e-01, 2.2835e-01],\n",
            "         [2.0267e-02, 3.9644e-01],\n",
            "         [2.2348e-01, 7.9113e-01],\n",
            "         [6.1280e-01, 3.4330e-01]],\n",
            "\n",
            "        [[8.8108e-01, 1.4444e-01],\n",
            "         [7.1418e-01, 8.6617e-02],\n",
            "         [3.9664e-01, 6.6147e-01],\n",
            "         [9.6866e-01, 4.6234e-01],\n",
            "         [1.3964e-01, 8.8034e-01]],\n",
            "\n",
            "        [[4.7661e-01, 2.3252e-01],\n",
            "         [3.1549e-03, 1.3872e-02],\n",
            "         [7.0364e-02, 3.8567e-01],\n",
            "         [8.2529e-01, 6.2932e-01],\n",
            "         [4.4790e-01, 9.6143e-01]],\n",
            "\n",
            "        [[8.1313e-01, 2.0814e-01],\n",
            "         [5.6711e-01, 3.8423e-01],\n",
            "         [7.5747e-01, 7.1903e-01],\n",
            "         [8.0296e-01, 4.7712e-01],\n",
            "         [6.1711e-01, 7.1299e-01]],\n",
            "\n",
            "        [[9.9372e-01, 4.2771e-01],\n",
            "         [8.7048e-01, 9.5431e-01],\n",
            "         [7.2461e-01, 9.2918e-01],\n",
            "         [8.1886e-01, 2.8981e-01],\n",
            "         [3.7180e-01, 6.5389e-01]],\n",
            "\n",
            "        [[1.8728e-01, 5.3173e-02],\n",
            "         [9.7534e-01, 7.1894e-01],\n",
            "         [2.0838e-01, 4.2585e-01],\n",
            "         [2.3910e-01, 7.3410e-01],\n",
            "         [8.2498e-01, 5.5976e-01]],\n",
            "\n",
            "        [[9.3991e-01, 7.9022e-01],\n",
            "         [6.4457e-02, 6.1032e-01],\n",
            "         [7.8872e-01, 6.1342e-01],\n",
            "         [9.6265e-01, 6.9767e-02],\n",
            "         [4.1279e-01, 8.6616e-01]],\n",
            "\n",
            "        [[1.2122e-01, 6.6944e-01],\n",
            "         [2.8720e-01, 3.5994e-01],\n",
            "         [2.4715e-01, 4.2540e-03],\n",
            "         [1.1487e-01, 7.5754e-01],\n",
            "         [6.9593e-01, 5.3162e-01]],\n",
            "\n",
            "        [[1.6573e-01, 2.5164e-02],\n",
            "         [4.4295e-01, 6.8596e-01],\n",
            "         [5.4137e-01, 8.4123e-01],\n",
            "         [2.9577e-01, 2.6725e-02],\n",
            "         [2.3787e-01, 1.7851e-01]],\n",
            "\n",
            "        [[7.6649e-02, 9.1878e-01],\n",
            "         [1.2935e-01, 4.9838e-01],\n",
            "         [7.1997e-01, 7.4397e-01],\n",
            "         [8.0289e-01, 6.4458e-01],\n",
            "         [3.6399e-01, 9.1966e-01]],\n",
            "\n",
            "        [[1.6330e-01, 2.1315e-01],\n",
            "         [2.6660e-01, 4.1338e-02],\n",
            "         [8.6501e-01, 4.0568e-01],\n",
            "         [7.6505e-03, 9.7291e-01],\n",
            "         [5.8076e-01, 7.5605e-01]],\n",
            "\n",
            "        [[3.4310e-01, 2.6905e-02],\n",
            "         [6.7993e-01, 9.7876e-01],\n",
            "         [3.6079e-01, 7.6487e-01],\n",
            "         [1.4351e-03, 4.4503e-01],\n",
            "         [8.7394e-01, 7.9539e-01]],\n",
            "\n",
            "        [[6.2030e-01, 1.9862e-01],\n",
            "         [8.7017e-01, 2.4218e-01],\n",
            "         [9.9032e-02, 9.0199e-01],\n",
            "         [8.2778e-01, 9.5518e-01],\n",
            "         [2.0881e-01, 7.1559e-01]],\n",
            "\n",
            "        [[4.5345e-01, 4.8193e-01],\n",
            "         [3.5123e-01, 5.6872e-01],\n",
            "         [1.6865e-01, 2.5681e-01],\n",
            "         [9.7947e-01, 1.9061e-01],\n",
            "         [1.3285e-01, 4.9615e-01]],\n",
            "\n",
            "        [[6.2503e-01, 4.2113e-01],\n",
            "         [1.7938e-01, 7.7962e-01],\n",
            "         [1.4569e-01, 9.3928e-01],\n",
            "         [2.1121e-01, 4.0375e-01],\n",
            "         [2.9557e-01, 7.2347e-01]],\n",
            "\n",
            "        [[8.6463e-01, 5.3881e-01],\n",
            "         [3.2886e-01, 4.3160e-01],\n",
            "         [3.3655e-01, 6.7868e-01],\n",
            "         [4.5492e-01, 3.3297e-02],\n",
            "         [3.3588e-01, 3.2999e-01]],\n",
            "\n",
            "        [[1.2673e-02, 9.4244e-01],\n",
            "         [6.8539e-01, 2.8740e-01],\n",
            "         [9.9583e-01, 4.6537e-02],\n",
            "         [7.9383e-01, 9.8351e-01],\n",
            "         [5.6615e-01, 5.1258e-01]],\n",
            "\n",
            "        [[2.9298e-01, 2.1326e-01],\n",
            "         [4.6698e-01, 4.2121e-01],\n",
            "         [9.4193e-01, 3.1000e-04],\n",
            "         [1.3960e-01, 6.5178e-01],\n",
            "         [9.0138e-01, 6.6934e-01]],\n",
            "\n",
            "        [[7.4499e-01, 3.8882e-01],\n",
            "         [7.2100e-02, 6.1656e-01],\n",
            "         [9.1484e-01, 6.5666e-02],\n",
            "         [1.6621e-01, 4.2017e-01],\n",
            "         [5.4699e-03, 4.6271e-01]],\n",
            "\n",
            "        [[1.8247e-01, 4.7666e-01],\n",
            "         [9.4173e-01, 1.4406e-01],\n",
            "         [6.1768e-01, 6.4059e-01],\n",
            "         [9.3187e-01, 7.0901e-01],\n",
            "         [1.8009e-01, 7.2442e-02]],\n",
            "\n",
            "        [[6.5032e-01, 4.0202e-01],\n",
            "         [4.4898e-01, 1.9561e-01],\n",
            "         [5.2347e-02, 1.3253e-01],\n",
            "         [1.5944e-01, 6.7185e-01],\n",
            "         [1.3638e-01, 7.8635e-01]],\n",
            "\n",
            "        [[5.4507e-01, 3.1360e-02],\n",
            "         [4.1087e-01, 4.6454e-01],\n",
            "         [6.7086e-01, 7.8774e-01],\n",
            "         [1.0654e-01, 1.8652e-01],\n",
            "         [7.0808e-02, 4.4151e-01]],\n",
            "\n",
            "        [[3.3318e-01, 1.2265e-01],\n",
            "         [4.6735e-02, 7.4293e-01],\n",
            "         [9.3796e-01, 7.5303e-01],\n",
            "         [8.5015e-01, 1.1574e-01],\n",
            "         [1.4363e-01, 3.4267e-04]],\n",
            "\n",
            "        [[5.2647e-01, 6.7209e-02],\n",
            "         [1.0432e-01, 6.0421e-01],\n",
            "         [7.7960e-01, 4.3530e-01],\n",
            "         [8.3171e-01, 8.0423e-01],\n",
            "         [4.9284e-01, 5.0176e-01]],\n",
            "\n",
            "        [[1.7463e-01, 4.0834e-01],\n",
            "         [9.9279e-01, 3.8876e-01],\n",
            "         [2.3393e-01, 5.7117e-02],\n",
            "         [1.6824e-01, 1.9003e-01],\n",
            "         [2.8654e-01, 9.3969e-01]],\n",
            "\n",
            "        [[9.3590e-01, 1.8307e-01],\n",
            "         [9.5595e-01, 6.5065e-01],\n",
            "         [3.8442e-01, 1.0459e-01],\n",
            "         [1.8632e-01, 6.0437e-01],\n",
            "         [2.7771e-01, 2.8146e-01]],\n",
            "\n",
            "        [[2.9486e-02, 9.4247e-01],\n",
            "         [3.4234e-01, 5.6776e-01],\n",
            "         [4.5532e-01, 5.8340e-01],\n",
            "         [8.9462e-01, 7.8796e-01],\n",
            "         [8.1260e-01, 6.3869e-02]],\n",
            "\n",
            "        [[3.2459e-01, 7.4921e-02],\n",
            "         [4.5060e-02, 6.4048e-01],\n",
            "         [4.0555e-01, 2.9394e-01],\n",
            "         [7.6591e-01, 4.4866e-01],\n",
            "         [3.2717e-01, 6.5301e-02]],\n",
            "\n",
            "        [[3.5256e-01, 5.4206e-01],\n",
            "         [3.6899e-01, 6.1772e-01],\n",
            "         [6.8335e-01, 2.4398e-01],\n",
            "         [5.3087e-01, 1.1382e-01],\n",
            "         [4.5560e-02, 1.0193e-01]]])\n"
          ],
          "name": "stdout"
        }
      ]
    },
    {
      "cell_type": "code",
      "metadata": {
        "colab": {
          "base_uri": "https://localhost:8080/"
        },
        "id": "WpnGYfa5zQiZ",
        "outputId": "f909f4c0-1b38-4608-a115-d34fe167f398"
      },
      "source": [
        "x = torch.arange(10)\n",
        "print(x.unsqueeze(0).shape)\n",
        "print(x.unsqueeze(1).shape)"
      ],
      "execution_count": null,
      "outputs": [
        {
          "output_type": "stream",
          "text": [
            "torch.Size([1, 10])\n",
            "torch.Size([10, 1])\n"
          ],
          "name": "stdout"
        }
      ]
    },
    {
      "cell_type": "code",
      "metadata": {
        "id": "14Mx7-SIzemj"
      },
      "source": [
        ""
      ],
      "execution_count": null,
      "outputs": []
    }
  ]
}