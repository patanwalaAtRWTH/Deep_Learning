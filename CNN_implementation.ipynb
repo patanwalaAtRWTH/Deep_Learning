{
  "nbformat": 4,
  "nbformat_minor": 0,
  "metadata": {
    "colab": {
      "name": "CNN implementation.ipynb",
      "provenance": []
    },
    "kernelspec": {
      "name": "python3",
      "display_name": "Python 3"
    },
    "language_info": {
      "name": "python"
    }
  },
  "cells": [
    {
      "cell_type": "code",
      "metadata": {
        "id": "s7AwgkillbNI"
      },
      "source": [
        " # Import\n",
        "\n",
        "import torch\n",
        "import torchvision #torch package for vision related things\n",
        "import torch.nn.functional as F # Parameterless functions, like activation functions\n",
        "import torchvision.datasets as datasets # standard datasets\n",
        "import torchvision.transforms as transforms # Transformations we can perform on our dataset for augmentation\n",
        "from torch import optim # for optimizers like SGD, Adam \n",
        "from torch import nn # All neural network modules\n",
        "from torch.utils.data import DataLoader # Gives easier dataset management by creating mini batches etc\n",
        "from tqdm import tqdm # progress bar"
      ],
      "execution_count": 7,
      "outputs": []
    },
    {
      "cell_type": "code",
      "metadata": {
        "colab": {
          "base_uri": "https://localhost:8080/"
        },
        "id": "YYlHM0otCcfc",
        "outputId": "379010be-e0f3-4c44-adef-5df5c99306b7"
      },
      "source": [
        "# Simple CNN\n",
        "\n",
        "\n",
        "class CNN(nn.Module):\n",
        "  def __init__(self, in_channels=1, num_classes=10):\n",
        "    super(CNN, self).__init__()\n",
        "    self.conv1 = nn.Conv2d(\n",
        "        in_channels = in_channels,\n",
        "        out_channels = 8,\n",
        "        kernel_size = (3,3),\n",
        "        stride = (1,1),\n",
        "        padding = (1,1))\n",
        "\n",
        "    self.pool = nn.MaxPool2d(kernel_size=(2,2), stride=(2,2))\n",
        "    self.conv2 = nn.Conv2d(\n",
        "        in_channels = 8,\n",
        "        out_channels = 16,\n",
        "        kernel_size = (3,3),\n",
        "        stride = (1,1),\n",
        "        padding = (1,1))\n",
        "\n",
        "    self.fc1 = nn.Linear(16 * 7 * 7, num_classes)\n",
        "\n",
        "\n",
        "\n",
        "  def forward(self, x):\n",
        "    x = F.relu(self.conv1(x))\n",
        "    x = self.pool(x)\n",
        "    x = F.relu(self.conv2(x))\n",
        "    x = self.pool(x)\n",
        "    x = x.reshape(x.shape[0], -1)\n",
        "    x = self.fc1(x)\n",
        "    return x\n",
        "\n",
        "\n",
        "\n",
        "# set device\n",
        "device = torch.device('cuda' if torch.cuda.is_available() else 'cpu')\n",
        "\n",
        "# Hyperparameters\n",
        "in_channels = 1\n",
        "num_classes = 10\n",
        "learning_rate = 0.001\n",
        "batch_size = 64 \n",
        "num_epochs = 3\n",
        "\n",
        "\n",
        "# Load Data\n",
        "train_dataset = datasets.MNIST(root='dataset/', train=True, transform = transforms.ToTensor(), download = True)\n",
        "test_dataset = datasets.MNIST(root='dataset/', train=False, transform = transforms.ToTensor(), download = True)\n",
        "train_loader = DataLoader(dataset = train_dataset, batch_size = batch_size, shuffle= True)\n",
        "test_loader = DataLoader(dataset=test_dataset, batch_size=batch_size, shuffle= True)\n",
        "\n",
        "\n",
        "\n",
        "#Inititalize network\n",
        "model = CNN(in_channels= in_channels, num_classes=num_classes).to(device)\n",
        "\n",
        "\n",
        "# Loss and optimizer\n",
        "criterion = nn.CrossEntropyLoss()\n",
        "optimizer = optim.Adam(model.parameters(), lr = learning_rate)\n",
        "\n",
        "\n",
        "# Train network\n",
        "for epoch in range(num_epochs):\n",
        "  for batch_idx, (data, targets) in enumerate(tqdm(train_loader)):\n",
        "    # get data to cuda if possible\n",
        "    data = data.to(device=device)\n",
        "    targets = targets.to(device=device)\n",
        "    \n",
        "    # forward \n",
        "    scores = model(data)\n",
        "    loss = criterion(scores, targets)\n",
        "    \n",
        "    # backward\n",
        "    optimizer.zero_grad()\n",
        "    loss.backward()\n",
        "\n",
        "    # gradient descent or adam step\n",
        "    optimizer.step()\n",
        "\n",
        "# Check accuracy on training and test to see how godd our model\n",
        "\n",
        "def check_accuracy(loader, model):\n",
        "  num_correct = 0\n",
        "  num_samples = 0\n",
        "  model.eval()\n",
        "\n",
        "  with torch.no_grad():\n",
        "    for x, y in loader:\n",
        "      x = x.to(device=device)\n",
        "      y = y.to(device=device)\n",
        "      scores = model(x)\n",
        "\n",
        "      _, predictions = scores.max(1)\n",
        "      num_correct += (predictions == y).sum()\n",
        "      num_samples += predictions.size(0)\n",
        "\n",
        "\n",
        "  model.train()\n",
        "  return num_correct/num_samples\n",
        "\n",
        "\n",
        "\n",
        "\n",
        "print(f'Accuracy on training set: {check_accuracy(train_loader, model)*100:.2f}')\n",
        "print(f'Accuracy on test set: {check_accuracy(test_loader, model)*100:.2f}')\n",
        "\n"
      ],
      "execution_count": 15,
      "outputs": [
        {
          "output_type": "stream",
          "text": [
            "100%|██████████| 938/938 [00:05<00:00, 162.16it/s]\n",
            "100%|██████████| 938/938 [00:05<00:00, 161.40it/s]\n",
            "100%|██████████| 938/938 [00:05<00:00, 163.65it/s]\n"
          ],
          "name": "stderr"
        },
        {
          "output_type": "stream",
          "text": [
            "Accuracy on training set: 98.03\n",
            "Accuracy on test set: 98.15\n"
          ],
          "name": "stdout"
        }
      ]
    },
    {
      "cell_type": "code",
      "metadata": {
        "id": "W7nnPU4XLjlp"
      },
      "source": [
        ""
      ],
      "execution_count": null,
      "outputs": []
    }
  ]
}